{
 "cells": [
  {
   "cell_type": "code",
   "execution_count": null,
   "id": "fb286944",
   "metadata": {},
   "outputs": [],
   "source": [
    "from jax.config import config\n",
    "config.update(\"jax_enable_x64\", True)\n",
    "\n",
    "import jax\n",
    "import jax.numpy as jnp\n",
    "\n",
    "import matplotlib.pyplot as plt\n",
    "\n",
    "from jarzynski import init_square, forward, imap, forward_n"
   ]
  },
  {
   "cell_type": "code",
   "execution_count": null,
   "id": "cd1d4512",
   "metadata": {},
   "outputs": [],
   "source": [
    "init_square_j = jax.jit(init_square, static_argnums=1)\n",
    "forward_j = jax.jit(forward)"
   ]
  },
  {
   "cell_type": "code",
   "execution_count": null,
   "id": "0c3e71f5",
   "metadata": {},
   "outputs": [],
   "source": [
    "state = init_square_j(jax.random.PRNGKey(0), 2, 0.0)\n",
    "forward_j(1.0, state)"
   ]
  },
  {
   "cell_type": "code",
   "execution_count": null,
   "id": "b657e0c8",
   "metadata": {},
   "outputs": [],
   "source": []
  },
  {
   "cell_type": "code",
   "execution_count": null,
   "id": "234bd18a",
   "metadata": {},
   "outputs": [],
   "source": [
    "def plot_state(state, proj, draw_walls=True):\n",
    "#     plt.axis('off')\n",
    "    plt.xticks([])\n",
    "    plt.yticks([])\n",
    "    plt.axis('square')\n",
    "    a = 0.4\n",
    "    plt.xlim(-a, a)\n",
    "    plt.ylim(-a, a)\n",
    "\n",
    "    r = state['balls']['r']\n",
    "    p = proj(state['balls']['x'])\n",
    "    phi = jnp.linspace(0, 2 * jnp.pi, 100)\n",
    "    \n",
    "    x = p[:, 0] + r * jnp.cos(phi[:, None])\n",
    "    y = p[:, 1] + r * jnp.sin(phi[:, None])\n",
    "    plt.plot(x, y, lw=1, color='black')\n",
    "    \n",
    "    if draw_walls:\n",
    "        x = proj(state['walls']['x'])\n",
    "        j = proj(state['walls']['j'])\n",
    "        k = proj(state['walls']['k'])\n",
    "        path = [x, x + j, x + j + k, x + k, x]\n",
    "        plt.plot([x[:, 0] for x in path], [x[:, 1] for x in path], 'black')\n",
    "\n",
    "\n",
    "def xy(pos):\n",
    "    return pos[..., [0, 1]]\n",
    "\n",
    "def xz(pos):\n",
    "    return pos[..., [0, 2]]\n",
    "\n",
    "def zy(pos):\n",
    "    return pos[..., [2, 1]]"
   ]
  },
  {
   "cell_type": "code",
   "execution_count": null,
   "id": "f64d09e6",
   "metadata": {},
   "outputs": [],
   "source": [
    "N = 5\n",
    "fig, axs = plt.subplots(1, N, figsize=(5.5, 1.27))\n",
    "\n",
    "def view(ax, states):\n",
    "    plt.sca(ax)\n",
    "    plt.cla()\n",
    "    plot_state(state, xy)\n",
    "    \n",
    "state = init_square_j(jax.random.PRNGKey(0), 160, 4e-2)\n",
    "vel = 15\n",
    "state['walls']['v'] = jnp.array([\n",
    "    [vel, 0.0, 0.0],\n",
    "    [-vel, 0.0, 0.0],\n",
    "    [0.0, vel, 0.0],\n",
    "    [0.0, -vel, 0.0],\n",
    "])\n",
    "dt = 0.5 / vel / (N - 1)\n",
    "\n",
    "for i in range(N):\n",
    "    view(axs[i], state)\n",
    "    A = jnp.sum(jnp.pi * state['balls']['r']**2)\n",
    "    x = state['walls']['x']\n",
    "    B = (x[1, 0] - x[0, 0]) * (x[3, 1] - x[2, 1])\n",
    "    phi = A / B\n",
    "    plt.title(fr\"$\\phi = {phi:.2f}$\")\n",
    "\n",
    "    if i < N - 1:\n",
    "        n, state, _ = forward_j(dt, state)\n",
    "        print(n)\n",
    "\n",
    "plt.tight_layout(w_pad=0.0, h_pad=0.3)\n",
    "plt.savefig('jamming.pgf')"
   ]
  },
  {
   "cell_type": "code",
   "execution_count": null,
   "id": "c07e751c",
   "metadata": {},
   "outputs": [],
   "source": [
    "jnp.pi / (2 * 3**0.5)"
   ]
  },
  {
   "cell_type": "code",
   "execution_count": null,
   "id": "d5327fb9",
   "metadata": {},
   "outputs": [],
   "source": [
    "state = init_square_j(jax.random.PRNGKey(0), 155, 4e-2)\n",
    "vel = 10.0\n",
    "state['walls']['v'] = jnp.array([\n",
    "    [vel, 0.0, 0.0],\n",
    "    [-vel, 0.0, 0.0],\n",
    "    [0.0, vel, 0.0],\n",
    "    [0.0, -vel, 0.0],\n",
    "])\n",
    "\n",
    "#t, state = forward_n(100_000, state)"
   ]
  },
  {
   "cell_type": "code",
   "execution_count": null,
   "id": "180a4fa5",
   "metadata": {},
   "outputs": [],
   "source": [
    "t, state = forward_n(10_000, state)\n",
    "\n",
    "A = jnp.sum(jnp.pi * state['balls']['r']**2)\n",
    "x = state['walls']['x']\n",
    "B = (x[1, 0] - x[0, 0]) * (x[3, 1] - x[2, 1])\n",
    "phi = A / B\n",
    "\n",
    "phi"
   ]
  },
  {
   "cell_type": "code",
   "execution_count": null,
   "id": "12ffdfdc",
   "metadata": {},
   "outputs": [],
   "source": []
  },
  {
   "cell_type": "code",
   "execution_count": null,
   "id": "3f6dbed5",
   "metadata": {},
   "outputs": [],
   "source": []
  },
  {
   "cell_type": "code",
   "execution_count": null,
   "id": "ac7abf1e",
   "metadata": {},
   "outputs": [],
   "source": []
  },
  {
   "cell_type": "code",
   "execution_count": null,
   "id": "f74fa3f5",
   "metadata": {},
   "outputs": [],
   "source": []
  }
 ],
 "metadata": {
  "kernelspec": {
   "display_name": "Python 3 (ipykernel)",
   "language": "python",
   "name": "python3"
  },
  "language_info": {
   "codemirror_mode": {
    "name": "ipython",
    "version": 3
   },
   "file_extension": ".py",
   "mimetype": "text/x-python",
   "name": "python",
   "nbconvert_exporter": "python",
   "pygments_lexer": "ipython3",
   "version": "3.8.5"
  }
 },
 "nbformat": 4,
 "nbformat_minor": 5
}
